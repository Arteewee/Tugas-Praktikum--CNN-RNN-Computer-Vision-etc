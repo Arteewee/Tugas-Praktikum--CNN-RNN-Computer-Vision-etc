{
  "nbformat": 4,
  "nbformat_minor": 0,
  "metadata": {
    "colab": {
      "name": "Image Prediction.ipynb",
      "provenance": [],
      "collapsed_sections": []
    },
    "kernelspec": {
      "name": "python3",
      "display_name": "Python 3"
    },
    "accelerator": "GPU"
  },
  "cells": [
    {
      "cell_type": "code",
      "metadata": {
        "id": "O4HDu2srtJB5"
      },
      "source": [
        "#import library\n",
        "\n",
        "from keras.models import Sequential\n",
        "from keras.layers import Dense, Activation, Flatten, Conv2D\n",
        "from keras.layers import MaxPooling2D, BatchNormalization, Dropout\n",
        "\n",
        "import keras.backend as K\n",
        "from tensorflow.keras.optimizers import Adam\n",
        "\n",
        "from keras.utils import np_utils\n",
        "from keras.datasets import cifar10\n",
        "\n",
        "import matplotlib.pyplot as plt\n",
        "import numpy as np\n",
        "\n",
        "from keras import backend as K\n",
        "\n",
        "\n",
        "from google.colab import files"
      ],
      "execution_count": 1,
      "outputs": []
    },
    {
      "cell_type": "code",
      "metadata": {
        "id": "0YRL4HEmtTHF"
      },
      "source": [
        "from keras.datasets import cifar10\n",
        "(X_train, Y_train), (X_test, Y_test) = cifar10.load_data()"
      ],
      "execution_count": 2,
      "outputs": []
    },
    {
      "cell_type": "code",
      "metadata": {
        "id": "zPlyt0WitVZ5",
        "colab": {
          "base_uri": "https://localhost:8080/"
        },
        "outputId": "7dcef1b0-e362-4885-a199-a35d82376968"
      },
      "source": [
        "X_train[3]"
      ],
      "execution_count": 3,
      "outputs": [
        {
          "output_type": "execute_result",
          "data": {
            "text/plain": [
              "array([[[ 28,  25,  10],\n",
              "        [ 37,  34,  19],\n",
              "        [ 38,  35,  20],\n",
              "        ...,\n",
              "        [ 76,  67,  39],\n",
              "        [ 81,  72,  43],\n",
              "        [ 85,  76,  47]],\n",
              "\n",
              "       [[ 33,  28,  13],\n",
              "        [ 34,  30,  14],\n",
              "        [ 32,  27,  12],\n",
              "        ...,\n",
              "        [ 95,  82,  55],\n",
              "        [ 96,  82,  56],\n",
              "        [ 85,  72,  45]],\n",
              "\n",
              "       [[ 39,  32,  15],\n",
              "        [ 40,  33,  17],\n",
              "        [ 57,  50,  33],\n",
              "        ...,\n",
              "        [ 93,  76,  52],\n",
              "        [107,  89,  66],\n",
              "        [ 95,  77,  54]],\n",
              "\n",
              "       ...,\n",
              "\n",
              "       [[ 83,  73,  52],\n",
              "        [ 87,  77,  56],\n",
              "        [ 84,  74,  52],\n",
              "        ...,\n",
              "        [ 99,  93,  70],\n",
              "        [ 90,  84,  61],\n",
              "        [ 81,  75,  52]],\n",
              "\n",
              "       [[ 88,  72,  51],\n",
              "        [ 90,  74,  52],\n",
              "        [ 93,  77,  56],\n",
              "        ...,\n",
              "        [ 80,  74,  53],\n",
              "        [ 76,  70,  49],\n",
              "        [ 82,  76,  55]],\n",
              "\n",
              "       [[ 97,  78,  56],\n",
              "        [ 94,  75,  53],\n",
              "        [ 93,  75,  53],\n",
              "        ...,\n",
              "        [ 54,  47,  28],\n",
              "        [ 63,  56,  37],\n",
              "        [ 72,  65,  46]]], dtype=uint8)"
            ]
          },
          "metadata": {},
          "execution_count": 3
        }
      ]
    },
    {
      "cell_type": "code",
      "metadata": {
        "id": "Oeo6Kqd_uM9H",
        "colab": {
          "base_uri": "https://localhost:8080/"
        },
        "outputId": "df311715-9dec-4d7b-c9e7-e3d71cf0f7f0"
      },
      "source": [
        "X_train.shape"
      ],
      "execution_count": 4,
      "outputs": [
        {
          "output_type": "execute_result",
          "data": {
            "text/plain": [
              "(50000, 32, 32, 3)"
            ]
          },
          "metadata": {},
          "execution_count": 4
        }
      ]
    },
    {
      "cell_type": "code",
      "metadata": {
        "id": "61LlFGSvdQ2q"
      },
      "source": [
        "# # Normalize\n",
        "\n",
        "# X_train = X_train / 255.0\n",
        "# X_train = X_test / 255.0"
      ],
      "execution_count": 5,
      "outputs": []
    },
    {
      "cell_type": "code",
      "metadata": {
        "id": "YGvy-z8Tujh8"
      },
      "source": [
        "from tensorflow.keras.utils import to_categorical\n",
        "#Categorical\n",
        "Y_train = to_categorical(Y_train)\n",
        "Y_test = to_categorical(Y_test)"
      ],
      "execution_count": 6,
      "outputs": []
    },
    {
      "cell_type": "code",
      "metadata": {
        "id": "nLX-NjQWu-1u",
        "colab": {
          "base_uri": "https://localhost:8080/"
        },
        "outputId": "a8992137-1149-4c0a-8797-1329ce967d7e"
      },
      "source": [
        "Y_test[1]"
      ],
      "execution_count": 7,
      "outputs": [
        {
          "output_type": "execute_result",
          "data": {
            "text/plain": [
              "array([0., 0., 0., 0., 0., 0., 0., 0., 1., 0.], dtype=float32)"
            ]
          },
          "metadata": {},
          "execution_count": 7
        }
      ]
    },
    {
      "cell_type": "code",
      "metadata": {
        "id": "QthWpq6SwH5a"
      },
      "source": [
        "input_shape = X_train.shape[1:]\n",
        "\n",
        "def createModel():\n",
        "    model = Sequential()\n",
        "    model.add(Conv2D(32, (3, 3), padding='same', activation='relu', input_shape=input_shape))\n",
        "    model.add(Conv2D(32, (3, 3), activation='relu'))\n",
        "    model.add(MaxPooling2D(pool_size=(2, 2)))\n",
        "    model.add(Dropout(0.2))\n",
        "    \n",
        "    model.add(Conv2D(64, (3, 3), padding='same', activation='relu'))\n",
        "    model.add(Conv2D(64, (3, 3), activation='relu'))\n",
        "    model.add(MaxPooling2D(pool_size=(2, 2)))\n",
        "    model.add(Dropout(0.3))\n",
        "    \n",
        "    model.add(Conv2D(128, (3, 3), padding='same', activation='relu'))\n",
        "    model.add(Conv2D(128, (3, 3), activation='relu'))\n",
        "    model.add(MaxPooling2D(pool_size=(2, 2)))\n",
        "    model.add(Dropout(0.4))\n",
        "    \n",
        "    model.add(Flatten())\n",
        "    model.add(Dense(512, activation='relu'))\n",
        "    model.add(Dropout(0.5))\n",
        "    model.add(Dense(128, activation='relu'))\n",
        "    model.add(Dense(10, activation='softmax'))\n",
        "     \n",
        "    return model"
      ],
      "execution_count": 8,
      "outputs": []
    },
    {
      "cell_type": "code",
      "metadata": {
        "id": "FuqDE5xcdYdp"
      },
      "source": [
        "K.clear_session()\n",
        "model = createModel()"
      ],
      "execution_count": 9,
      "outputs": []
    },
    {
      "cell_type": "code",
      "metadata": {
        "id": "1Reicwbex9_y"
      },
      "source": [
        "model.compile(optimizer= 'adam',loss='categorical_crossentropy',metrics=['accuracy'])"
      ],
      "execution_count": 10,
      "outputs": []
    },
    {
      "cell_type": "code",
      "metadata": {
        "id": "0xZA2lVaddvu",
        "colab": {
          "base_uri": "https://localhost:8080/"
        },
        "outputId": "68bebcb5-b1d1-4488-b794-d9298b3b6bf5"
      },
      "source": [
        "model.summary()"
      ],
      "execution_count": 11,
      "outputs": [
        {
          "output_type": "stream",
          "name": "stdout",
          "text": [
            "Model: \"sequential\"\n",
            "_________________________________________________________________\n",
            "Layer (type)                 Output Shape              Param #   \n",
            "=================================================================\n",
            "conv2d (Conv2D)              (None, 32, 32, 32)        896       \n",
            "_________________________________________________________________\n",
            "conv2d_1 (Conv2D)            (None, 30, 30, 32)        9248      \n",
            "_________________________________________________________________\n",
            "max_pooling2d (MaxPooling2D) (None, 15, 15, 32)        0         \n",
            "_________________________________________________________________\n",
            "dropout (Dropout)            (None, 15, 15, 32)        0         \n",
            "_________________________________________________________________\n",
            "conv2d_2 (Conv2D)            (None, 15, 15, 64)        18496     \n",
            "_________________________________________________________________\n",
            "conv2d_3 (Conv2D)            (None, 13, 13, 64)        36928     \n",
            "_________________________________________________________________\n",
            "max_pooling2d_1 (MaxPooling2 (None, 6, 6, 64)          0         \n",
            "_________________________________________________________________\n",
            "dropout_1 (Dropout)          (None, 6, 6, 64)          0         \n",
            "_________________________________________________________________\n",
            "conv2d_4 (Conv2D)            (None, 6, 6, 128)         73856     \n",
            "_________________________________________________________________\n",
            "conv2d_5 (Conv2D)            (None, 4, 4, 128)         147584    \n",
            "_________________________________________________________________\n",
            "max_pooling2d_2 (MaxPooling2 (None, 2, 2, 128)         0         \n",
            "_________________________________________________________________\n",
            "dropout_2 (Dropout)          (None, 2, 2, 128)         0         \n",
            "_________________________________________________________________\n",
            "flatten (Flatten)            (None, 512)               0         \n",
            "_________________________________________________________________\n",
            "dense (Dense)                (None, 512)               262656    \n",
            "_________________________________________________________________\n",
            "dropout_3 (Dropout)          (None, 512)               0         \n",
            "_________________________________________________________________\n",
            "dense_1 (Dense)              (None, 128)               65664     \n",
            "_________________________________________________________________\n",
            "dense_2 (Dense)              (None, 10)                1290      \n",
            "=================================================================\n",
            "Total params: 616,618\n",
            "Trainable params: 616,618\n",
            "Non-trainable params: 0\n",
            "_________________________________________________________________\n"
          ]
        }
      ]
    },
    {
      "cell_type": "code",
      "metadata": {
        "id": "JrUMcugR0OGn",
        "colab": {
          "base_uri": "https://localhost:8080/"
        },
        "outputId": "4f82ecfd-a787-48ca-c1a5-664bad8b4cb1"
      },
      "source": [
        "hist = model.fit(X_train, Y_train, epochs= 25, batch_size = 80, shuffle= True, validation_data=(X_test,Y_test))"
      ],
      "execution_count": 12,
      "outputs": [
        {
          "output_type": "stream",
          "name": "stdout",
          "text": [
            "Epoch 1/25\n",
            "625/625 [==============================] - 46s 21ms/step - loss: 1.9216 - accuracy: 0.2861 - val_loss: 1.4239 - val_accuracy: 0.4741\n",
            "Epoch 2/25\n",
            "625/625 [==============================] - 13s 21ms/step - loss: 1.4434 - accuracy: 0.4699 - val_loss: 1.2894 - val_accuracy: 0.5339\n",
            "Epoch 3/25\n",
            "625/625 [==============================] - 13s 21ms/step - loss: 1.2701 - accuracy: 0.5466 - val_loss: 1.1378 - val_accuracy: 0.5932\n",
            "Epoch 4/25\n",
            "625/625 [==============================] - 13s 21ms/step - loss: 1.1510 - accuracy: 0.5930 - val_loss: 1.0025 - val_accuracy: 0.6493\n",
            "Epoch 5/25\n",
            "625/625 [==============================] - 13s 21ms/step - loss: 1.0725 - accuracy: 0.6228 - val_loss: 0.9503 - val_accuracy: 0.6643\n",
            "Epoch 6/25\n",
            "625/625 [==============================] - 13s 21ms/step - loss: 1.0340 - accuracy: 0.6398 - val_loss: 0.8846 - val_accuracy: 0.6931\n",
            "Epoch 7/25\n",
            "625/625 [==============================] - 13s 21ms/step - loss: 0.9753 - accuracy: 0.6623 - val_loss: 0.8469 - val_accuracy: 0.7080\n",
            "Epoch 8/25\n",
            "625/625 [==============================] - 13s 21ms/step - loss: 0.9440 - accuracy: 0.6722 - val_loss: 0.8725 - val_accuracy: 0.6994\n",
            "Epoch 9/25\n",
            "625/625 [==============================] - 13s 21ms/step - loss: 0.9165 - accuracy: 0.6858 - val_loss: 0.8519 - val_accuracy: 0.7123\n",
            "Epoch 10/25\n",
            "625/625 [==============================] - 13s 21ms/step - loss: 0.8878 - accuracy: 0.6963 - val_loss: 0.7935 - val_accuracy: 0.7337\n",
            "Epoch 11/25\n",
            "625/625 [==============================] - 13s 21ms/step - loss: 0.8633 - accuracy: 0.7050 - val_loss: 0.8308 - val_accuracy: 0.7283\n",
            "Epoch 12/25\n",
            "625/625 [==============================] - 13s 21ms/step - loss: 0.8432 - accuracy: 0.7138 - val_loss: 0.7397 - val_accuracy: 0.7489\n",
            "Epoch 13/25\n",
            "625/625 [==============================] - 13s 21ms/step - loss: 0.8294 - accuracy: 0.7178 - val_loss: 0.7677 - val_accuracy: 0.7445\n",
            "Epoch 14/25\n",
            "625/625 [==============================] - 13s 21ms/step - loss: 0.8110 - accuracy: 0.7253 - val_loss: 0.7331 - val_accuracy: 0.7584\n",
            "Epoch 15/25\n",
            "625/625 [==============================] - 13s 21ms/step - loss: 0.7945 - accuracy: 0.7319 - val_loss: 0.7107 - val_accuracy: 0.7629\n",
            "Epoch 16/25\n",
            "625/625 [==============================] - 13s 21ms/step - loss: 0.7829 - accuracy: 0.7355 - val_loss: 0.6866 - val_accuracy: 0.7736\n",
            "Epoch 17/25\n",
            "625/625 [==============================] - 13s 21ms/step - loss: 0.7767 - accuracy: 0.7386 - val_loss: 0.7240 - val_accuracy: 0.7607\n",
            "Epoch 18/25\n",
            "625/625 [==============================] - 13s 21ms/step - loss: 0.7646 - accuracy: 0.7430 - val_loss: 0.7194 - val_accuracy: 0.7600\n",
            "Epoch 19/25\n",
            "625/625 [==============================] - 13s 21ms/step - loss: 0.7519 - accuracy: 0.7464 - val_loss: 0.7060 - val_accuracy: 0.7692\n",
            "Epoch 20/25\n",
            "625/625 [==============================] - 13s 21ms/step - loss: 0.7427 - accuracy: 0.7511 - val_loss: 0.7462 - val_accuracy: 0.7545\n",
            "Epoch 21/25\n",
            "625/625 [==============================] - 13s 21ms/step - loss: 0.7325 - accuracy: 0.7538 - val_loss: 0.7138 - val_accuracy: 0.7679\n",
            "Epoch 22/25\n",
            "625/625 [==============================] - 13s 21ms/step - loss: 0.7301 - accuracy: 0.7568 - val_loss: 0.6811 - val_accuracy: 0.7686\n",
            "Epoch 23/25\n",
            "625/625 [==============================] - 13s 21ms/step - loss: 0.7236 - accuracy: 0.7580 - val_loss: 0.6766 - val_accuracy: 0.7754\n",
            "Epoch 24/25\n",
            "625/625 [==============================] - 13s 21ms/step - loss: 0.7197 - accuracy: 0.7625 - val_loss: 0.7113 - val_accuracy: 0.7631\n",
            "Epoch 25/25\n",
            "625/625 [==============================] - 13s 21ms/step - loss: 0.7078 - accuracy: 0.7647 - val_loss: 0.6811 - val_accuracy: 0.7812\n"
          ]
        }
      ]
    },
    {
      "cell_type": "code",
      "metadata": {
        "id": "lxJ_FNgq15Fd",
        "colab": {
          "base_uri": "https://localhost:8080/"
        },
        "outputId": "069a142f-f378-4b8d-ad6c-6dde991f9069"
      },
      "source": [
        "score = model.evaluate(X_test,Y_test)\n",
        "print(\"Accuracy: \",score[1]*100,\"%\")"
      ],
      "execution_count": 13,
      "outputs": [
        {
          "output_type": "stream",
          "name": "stdout",
          "text": [
            "313/313 [==============================] - 2s 6ms/step - loss: 0.6811 - accuracy: 0.7812\n",
            "Accuracy:  78.11999917030334 %\n"
          ]
        }
      ]
    },
    {
      "cell_type": "code",
      "metadata": {
        "id": "3RhSY5zQ3zq9",
        "colab": {
          "base_uri": "https://localhost:8080/",
          "height": 267
        },
        "outputId": "f91ae336-c805-4dd0-a4ee-38bfd576de8c"
      },
      "source": [
        "plt.plot(hist.history['accuracy'])\n",
        "plt.plot(hist.history['val_accuracy'])\n",
        "plt.legend(['Acc','Val_Acc'])\n",
        "plt.show()"
      ],
      "execution_count": 15,
      "outputs": [
        {
          "output_type": "display_data",
          "data": {
            "image/png": "[encoded data removed]",
            "text/plain": [
              "<Figure size 432x288 with 1 Axes>"
            ]
          },
          "metadata": {
            "needs_background": "light"
          }
        }
      ]
    },
    {
      "cell_type": "code",
      "metadata": {
        "id": "Vm3gCMgX5Rec",
        "colab": {
          "base_uri": "https://localhost:8080/",
          "height": 265
        },
        "outputId": "8da76751-e179-4455-bc10-d2df5fb1fc53"
      },
      "source": [
        "plt.plot(hist.history['loss'])\n",
        "plt.plot(hist.history['val_loss'])\n",
        "plt.legend(['Lcc','Val_loss'])\n",
        "plt.show()"
      ],
      "execution_count": 16,
      "outputs": [
        {
          "output_type": "display_data",
          "data": {
            "image/png": "[encoded data removed]",
            "text/plain": [
              "<Figure size 432x288 with 1 Axes>"
            ]
          },
          "metadata": {
            "needs_background": "light"
          }
        }
      ]
    },
    {
      "cell_type": "code",
      "metadata": {
        "id": "8OGLz4xK5-kf",
        "colab": {
          "base_uri": "https://localhost:8080/",
          "height": 279
        },
        "outputId": "979d0d29-9fa9-4fe6-9909-cde28461ebc4"
      },
      "source": [
        "dict_label = {0:'airplane',1:'automobile',2:'bird',3:'cat',4:'deer',5:'dog',6:'frog',7:'horse',8:'ship',9:'truck'}\n",
        "def predict():\n",
        "    some_random_number= np.random.randint(low = 0 , high = len(X_test)-1,size=4)\n",
        "    sample_images = X_train[some_random_number]\n",
        "    sample_label = Y_train[some_random_number]\n",
        "    predicted = model.predict(sample_images)\n",
        "    predicted = np.argmax(predicted,axis=1)\n",
        "    true_label = np.argmax(sample_label,axis=1)\n",
        "    fig,axs = plt.subplots(2,2)\n",
        "    for row in range(2):\n",
        "        for col in range(2):\n",
        "            if row == 0 :\n",
        "                true = true_label[row+col]\n",
        "                pred = predicted[row+col]\n",
        "                axs[row, col].imshow(sample_images[row+col])\n",
        "            else:\n",
        "                true = true_label[row+col+1]\n",
        "                pred = predicted[row+col+1]\n",
        "                axs[row, col].imshow(sample_images[row+col+1])\n",
        "            axs[row, col].set_title('True: %s\\nPredicted: %s' % (dict_label[true], dict_label[pred]))\n",
        "            axs[row, col].axis('off')\n",
        "            \n",
        "predict()"
      ],
      "execution_count": 22,
      "outputs": [
        {
          "output_type": "display_data",
          "data": {
            "image/png": "[encoded data removed]",
            "text/plain": [
              "<Figure size 432x288 with 4 Axes>"
            ]
          },
          "metadata": {
            "needs_background": "light"
          }
        }
      ]
    },
    {
      "cell_type": "code",
      "metadata": {
        "id": "JLDnMAQf8Tf9"
      },
      "source": [
        ""
      ],
      "execution_count": 19,
      "outputs": []
    }
  ]
}